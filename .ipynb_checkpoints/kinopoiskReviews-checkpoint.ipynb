{
 "cells": [
  {
   "cell_type": "code",
   "execution_count": 24,
   "metadata": {},
   "outputs": [],
   "source": [
    "# IMPORTS\n",
    "from skimage.io import imread\n",
    "from bs4 import BeautifulSoup\n",
    "import pandas as pd\n",
    "import requests"
   ]
  },
  {
   "cell_type": "code",
   "execution_count": 51,
   "metadata": {},
   "outputs": [],
   "source": [
    "URL = \"https://www.livelib.ru/reviews/~%d#reviews\""
   ]
  },
  {
   "cell_type": "code",
   "execution_count": 109,
   "metadata": {},
   "outputs": [],
   "source": [
    "def extract_reviews(parser):\n",
    "    reviews_list = []\n",
    "    \n",
    "    reviews_divs = parser.find_all(\"div\", {\"id\": \"book-reviews\"})\n",
    "    \n",
    "    for ind in range(len(reviews_divs)):\n",
    "        try:\n",
    "            label          = reviews_divs[ind].find(\"span\", {\"class\": \"lenta-card__mymark\"}).text\n",
    "            review_content = get_name(reviews_divs[ind].find(\"div\",  {\"class\": \"lenta-card__text\"}))\n",
    "            \n",
    "            review = {\n",
    "                \"content\" : review_content, \n",
    "                \"label\" : label\n",
    "            }\n",
    "\n",
    "            reviews_list.append(review)\n",
    "        except:\n",
    "            pass\n",
    "        \n",
    "    return reviews_list\n",
    "\n",
    "\n",
    "def get_name(parser):\n",
    "    text = \"\"\n",
    "    \n",
    "    for p in parser.find_all(\"p\"):\n",
    "        text += p.text\n",
    "        \n",
    "    return text\n",
    "\n",
    "\n",
    "def get_reviews_from_livelib(n_pages=1):\n",
    "    reviews = []\n",
    "\n",
    "    while n_pages:\n",
    "        reviews_list = []\n",
    "        \n",
    "        response = requests.get(URL % n_pages)\n",
    "        print(response.url)\n",
    "        response.encoding = response.apparent_encoding\n",
    "        soup = BeautifulSoup(response.text, \"html.parser\")\n",
    "        \n",
    "        reviews.extend(extract_reviews(soup))\n",
    "        n_pages -= 1\n",
    "    \n",
    "    return reviews"
   ]
  },
  {
   "cell_type": "code",
   "execution_count": 110,
   "metadata": {},
   "outputs": [
    {
     "name": "stdout",
     "output_type": "stream",
     "text": [
      "https://www.livelib.ru/reviews#reviews\n"
     ]
    }
   ],
   "source": [
    "a = get_reviews_from_livelib()"
   ]
  },
  {
   "cell_type": "code",
   "execution_count": 111,
   "metadata": {},
   "outputs": [],
   "source": [
    "data = pd.DataFrame(a)"
   ]
  },
  {
   "cell_type": "code",
   "execution_count": 112,
   "metadata": {},
   "outputs": [
    {
     "data": {
      "text/html": [
       "<div>\n",
       "<style scoped>\n",
       "    .dataframe tbody tr th:only-of-type {\n",
       "        vertical-align: middle;\n",
       "    }\n",
       "\n",
       "    .dataframe tbody tr th {\n",
       "        vertical-align: top;\n",
       "    }\n",
       "\n",
       "    .dataframe thead th {\n",
       "        text-align: right;\n",
       "    }\n",
       "</style>\n",
       "<table border=\"1\" class=\"dataframe\">\n",
       "  <thead>\n",
       "    <tr style=\"text-align: right;\">\n",
       "      <th></th>\n",
       "      <th>content</th>\n",
       "      <th>label</th>\n",
       "    </tr>\n",
       "  </thead>\n",
       "  <tbody>\n",
       "    <tr>\n",
       "      <th>0</th>\n",
       "      <td>Тисл осталось сдать в издательство последнюю к...</td>\n",
       "      <td>\\n                    \\n                      ...</td>\n",
       "    </tr>\n",
       "  </tbody>\n",
       "</table>\n",
       "</div>"
      ],
      "text/plain": [
       "                                             content  \\\n",
       "0  Тисл осталось сдать в издательство последнюю к...   \n",
       "\n",
       "                                               label  \n",
       "0  \\n                    \\n                      ...  "
      ]
     },
     "execution_count": 112,
     "metadata": {},
     "output_type": "execute_result"
    }
   ],
   "source": [
    "data.head()"
   ]
  },
  {
   "cell_type": "code",
   "execution_count": 108,
   "metadata": {},
   "outputs": [
    {
     "data": {
      "text/plain": [
       "''"
      ]
     },
     "execution_count": 108,
     "metadata": {},
     "output_type": "execute_result"
    }
   ],
   "source": [
    "data[\"content\"][0]"
   ]
  },
  {
   "cell_type": "code",
   "execution_count": 33,
   "metadata": {},
   "outputs": [],
   "source": [
    "data.to_csv(\"kino_reviews.csv\", index=None)"
   ]
  },
  {
   "cell_type": "code",
   "execution_count": 23,
   "metadata": {},
   "outputs": [],
   "source": [
    "import json\n",
    "\n",
    "with open(\"kino_reviews.json\", \"w\") as file:\n",
    "    json.dump(a, file)"
   ]
  },
  {
   "cell_type": "code",
   "execution_count": null,
   "metadata": {},
   "outputs": [],
   "source": []
  }
 ],
 "metadata": {
  "kernelspec": {
   "display_name": "cs102",
   "language": "python",
   "name": "cs102"
  },
  "language_info": {
   "codemirror_mode": {
    "name": "ipython",
    "version": 3
   },
   "file_extension": ".py",
   "mimetype": "text/x-python",
   "name": "python",
   "nbconvert_exporter": "python",
   "pygments_lexer": "ipython3",
   "version": "3.7.4"
  }
 },
 "nbformat": 4,
 "nbformat_minor": 4
}
